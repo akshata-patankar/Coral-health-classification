{
  "nbformat": 4,
  "nbformat_minor": 0,
  "metadata": {
    "colab": {
      "provenance": []
    },
    "kernelspec": {
      "name": "python3",
      "display_name": "Python 3"
    },
    "language_info": {
      "name": "python"
    }
  },
  "cells": [
    {
      "cell_type": "code",
      "source": [
        "from google.colab import drive\n",
        "drive.mount('/content/drive')"
      ],
      "metadata": {
        "colab": {
          "base_uri": "https://localhost:8080/"
        },
        "id": "ixDQ9IPxJrJZ",
        "outputId": "324b0f51-fe56-4c9b-a97e-c1478a03fbb2"
      },
      "execution_count": null,
      "outputs": [
        {
          "output_type": "stream",
          "name": "stdout",
          "text": [
            "Mounted at /content/drive\n"
          ]
        }
      ]
    },
    {
      "cell_type": "code",
      "source": [
        "import cv2\n",
        "import numpy as np\n",
        "import albumentations as A\n",
        "from glob import glob\n",
        "import os"
      ],
      "metadata": {
        "id": "9PBxfeksMnuq"
      },
      "execution_count": null,
      "outputs": []
    },
    {
      "cell_type": "code",
      "source": [
        "def get_augmentations(category):\n",
        "    if category == \"healthy\":\n",
        "        return A.Compose([\n",
        "            A.HorizontalFlip(p=0.5),\n",
        "            A.VerticalFlip(p=0.2),\n",
        "            A.Affine(scale=(0.9, 1.1), translate_percent=(0.02, 0.02), rotate=(-20, 20), p=0.7),\n",
        "            A.RandomBrightnessContrast(brightness_limit=0.2, contrast_limit=0.2, p=0.5)\n",
        "        ])\n",
        "    elif category == \"bleached\":\n",
        "        return A.Compose([\n",
        "            A.HorizontalFlip(p=0.5),\n",
        "            A.VerticalFlip(p=0.2),\n",
        "            A.Affine(scale=(0.9, 1.1), translate_percent=(0.02, 0.02), rotate=(-20, 20), p=0.7),\n",
        "            A.RandomBrightnessContrast(brightness_limit=0.1, contrast_limit=0.05, p=0.5),\n",
        "            A.GaussianBlur(blur_limit=(3, 5), p=0.2)\n",
        "        ])\n",
        "    else:  # Diseased\n",
        "        return A.Compose([\n",
        "            A.HorizontalFlip(p=0.5),\n",
        "            A.VerticalFlip(p=0.2),\n",
        "            A.Affine(scale=(0.9, 1.1), translate_percent=(0.02, 0.02), rotate=(-20, 20), p=0.7),\n",
        "            A.RandomBrightnessContrast(brightness_limit=-0.2, contrast_limit=0.3, p=0.5),\n",
        "            A.MotionBlur(blur_limit=(3, 5), p=0.2),\n",
        "            A.Perspective(scale=(0.02, 0.05), p=0.3),\n",
        "            A.ElasticTransform(alpha=1.0, sigma=50.0, p=0.2)\n",
        "        ])\n"
      ],
      "metadata": {
        "id": "NdLXuTnUBE79"
      },
      "execution_count": null,
      "outputs": []
    },
    {
      "cell_type": "code",
      "source": [
        "def augment_image(image_path, save_dir, num_augments, augmenter):\n",
        "    image = cv2.imread(image_path)\n",
        "    image = cv2.cvtColor(image, cv2.COLOR_BGR2RGB)\n",
        "\n",
        "    # Save original image\n",
        "    cv2.imwrite(os.path.join(save_dir, 'original_' + os.path.basename(image_path)), cv2.cvtColor(image, cv2.COLOR_RGB2BGR))\n",
        "\n",
        "    # Apply augmentations\n",
        "    for i in range(1, num_augments + 1):\n",
        "        augmented_img = augmenter(image=image)['image']\n",
        "        cv2.imwrite(os.path.join(save_dir, f'augmented_{i}_' + os.path.basename(image_path)), cv2.cvtColor(augmented_img, cv2.COLOR_RGB2BGR))"
      ],
      "metadata": {
        "id": "1aZh209pBJ4p"
      },
      "execution_count": null,
      "outputs": []
    },
    {
      "cell_type": "code",
      "source": [
        "# Define dataset categories\n",
        "categories = {\n",
        "    \"diseased\": {\"input_folder\": \"/content/drive/MyDrive/disease\", \"output_folder\": \"/content/drive/MyDrive/coral_data/diseased\", \"num_augments\": 7},\n",
        "    \"healthy\": {\"input_folder\": \"/content/drive/MyDrive/healthy_corals\", \"output_folder\": \"/content/drive/MyDrive/coral_data/healthy\", \"num_augments\": 3},\n",
        "    \"bleached\": {\"input_folder\": \"/content/drive/MyDrive/bleached_corals\", \"output_folder\": \"/content/drive/MyDrive/coral_data/bleached\", \"num_augments\": 2},\n",
        "}"
      ],
      "metadata": {
        "id": "9HuF5mtGOIhp"
      },
      "execution_count": null,
      "outputs": []
    },
    {
      "cell_type": "code",
      "source": [
        "# Process images for each category\n",
        "for category, settings in categories.items():\n",
        "    os.makedirs(settings[\"output_folder\"], exist_ok=True)\n",
        "    image_paths = glob(os.path.join(settings[\"input_folder\"], \"*.jpg\"))\n",
        "    augmenter = get_augmentations(category)\n",
        "    for img_path in image_paths:\n",
        "        augment_image(img_path, settings[\"output_folder\"], settings[\"num_augments\"], augmenter)"
      ],
      "metadata": {
        "id": "S9u0LOxTBRo3"
      },
      "execution_count": null,
      "outputs": []
    }
  ]
}